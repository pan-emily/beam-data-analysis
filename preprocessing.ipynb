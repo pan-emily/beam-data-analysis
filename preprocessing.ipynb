{
 "cells": [
  {
   "cell_type": "code",
   "execution_count": 1,
   "id": "4b1f3fe6-3c9e-495c-8927-5604ea5c9f6d",
   "metadata": {},
   "outputs": [],
   "source": [
    "import pathlib\n",
    "import numpy as np\n",
    "import csv\n",
    "import matplotlib.pyplot as plt\n",
    "from scipy.signal import savgol_filter\n",
    "from scipy.optimize import curve_fit\n",
    "from scipy.interpolate import splrep, splev\n",
    "from scipy.fftpack import rfftfreq, rfft,irfft\n",
    "from scipy.signal import butter, sosfiltfilt, sosfreqz\n",
    "from scipy.optimize import curve_fit\n",
    "import multiprocessing as mp\n",
    "from functools import partial\n",
    "import sys"
   ]
  },
  {
   "cell_type": "code",
   "execution_count": 2,
   "id": "779699e8-5bf3-4faf-ba00-66f453161052",
   "metadata": {
    "tags": []
   },
   "outputs": [
    {
     "name": "stdout",
     "output_type": "stream",
     "text": [
      "C:\\Users\\User\\Dropbox (Hutzler Lab)\\HutzlerLabShared\\Personal\\EmilyPan\\activework\\Data Samples\\20210520\n"
     ]
    }
   ],
   "source": [
    "code_path = r'C:\\Users\\User\\Dropbox (Hutzler Lab)\\HutzlerLabShared\\Personal\\EmilyPan\\activework\\Data Samples'\n",
    "folder_path = r'C:\\Users\\User\\Dropbox (Hutzler Lab)\\HutzlerLabShared\\Personal\\EmilyPan\\activework\\Data Samples\\20210520'\n",
    "print(folder_path)"
   ]
  },
  {
   "cell_type": "code",
   "execution_count": 3,
   "id": "7e8b67e3-38b8-4f87-b37c-5b7a27bf1326",
   "metadata": {},
   "outputs": [],
   "source": [
    "file_num = str(1)\n",
    "file_name = 'scan_1_'"
   ]
  },
  {
   "cell_type": "code",
   "execution_count": 8,
   "id": "99e7f001-e955-4700-88f4-ca8b8e8f4e16",
   "metadata": {},
   "outputs": [
    {
     "name": "stdout",
     "output_type": "stream",
     "text": [
      "C:\\Users\\User\\Dropbox (Hutzler Lab)\\HutzlerLabShared\\Personal\\EmilyPan\\activework\\Data Samples\\20210520\\scan_1_1.txt\n",
      "13\n",
      "19\n"
     ]
    }
   ],
   "source": [
    "file_path = get_data_filepath(folder_path, file_name, file_num)\n",
    "print(file_path)\n",
    "print(header_size(file_path))\n",
    "print(lines_before_data(file_path, \"time\"))"
   ]
  },
  {
   "cell_type": "code",
   "execution_count": null,
   "id": "efb6c21c-9ff7-4fb4-b1e6-3b3cd97d2b85",
   "metadata": {},
   "outputs": [],
   "source": [
    "def read_single_data_file(folder_path, file_name, file_num):\n",
    "    file_path = get_data_filepath(folder_path, file_name, file_num)\n",
    "    # Starting with just PXI data, may implement backwards compatibility later\n",
    "    \n",
    "    "
   ]
  },
  {
   "cell_type": "code",
   "execution_count": 4,
   "id": "c63dd85f-9944-4008-bb50-44c37fd3c627",
   "metadata": {},
   "outputs": [],
   "source": [
    "def get_data_filepath(folder_path, file_name, file_num):\n",
    "    '''\n",
    "    Generates the full file path for given file of the form \"name_num.txt\" located in the folder given by\n",
    "    folder_path (an absolute path). \n",
    "    '''\n",
    "    file = file_name + file_num + '.txt'\n",
    "    full_path = folder_path + \"\\\\\" + file\n",
    "    return full_path"
   ]
  },
  {
   "cell_type": "code",
   "execution_count": 7,
   "id": "8995dd3e-87c3-487d-bdb0-81fac7b97f34",
   "metadata": {},
   "outputs": [],
   "source": [
    "def header_size(file_path, lim=1000):\n",
    "    '''\n",
    "    Returns the number of lines in the header, where the end of the header is marked by\n",
    "    \"***end of header***\" in file. \n",
    "    '''\n",
    "    delim = \"***end of header***\"\n",
    "    with open(file_path, 'r') as f:\n",
    "        end = False\n",
    "        lines = 0;\n",
    "        while end == False:\n",
    "            curr_line = f.readline().strip('\\n')\n",
    "            if lines > lim:\n",
    "                print(\"Header not found in {} lines of {}\".format(lines, file_path))\n",
    "                break\n",
    "            elif (delim in curr_line):\n",
    "                end = True\n",
    "            lines += 1\n",
    "    return lines\n",
    "\n",
    "def lines_before_data(file_path, delim, lim=1000):\n",
    "    '''\n",
    "    Returns the number of lines before the data array begins, marked by the delimiter phrase in file. \n",
    "    '''\n",
    "    with open(file_path, 'r') as f:\n",
    "        end = False\n",
    "        lines = 0;\n",
    "        while end == False:\n",
    "            curr_line = f.readline().strip('\\n')\n",
    "            if lines > lim:\n",
    "                print(\"Start of data array not found in {} lines of {}\".format(lines, file_path))\n",
    "                break\n",
    "            elif (delim in curr_line):\n",
    "                end = True\n",
    "            lines += 1\n",
    "    return lines"
   ]
  }
 ],
 "metadata": {
  "kernelspec": {
   "display_name": "Python 3",
   "language": "python",
   "name": "python3"
  },
  "language_info": {
   "codemirror_mode": {
    "name": "ipython",
    "version": 3
   },
   "file_extension": ".py",
   "mimetype": "text/x-python",
   "name": "python",
   "nbconvert_exporter": "python",
   "pygments_lexer": "ipython3",
   "version": "3.8.8"
  }
 },
 "nbformat": 4,
 "nbformat_minor": 5
}
